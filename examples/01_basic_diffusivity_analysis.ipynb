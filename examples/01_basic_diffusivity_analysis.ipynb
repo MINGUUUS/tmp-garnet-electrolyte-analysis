{
 "cells": [
  {
   "cell_type": "markdown",
   "metadata": {},
   "source": [
    "# Basic Diffusivity Analysis Tutorial\n",
    "\n",
    "This notebook demonstrates how to use the garnet-electrolyte-analysis package to:\n",
    "1. Load molecular dynamics trajectory data\n",
    "2. Calculate Li-ion diffusivity\n",
    "3. Analyze other element stability\n",
    "4. Create publication-quality plots\n",
    "\n",
    "## Prerequisites\n",
    "\n",
    "- LAMMPS dump file (trajectory)\n",
    "- LAMMPS data file (initial structure)\n",
    "- Python environment with the package installed"
   ]
  },
  {
   "cell_type": "code",
   "execution_count": null,
   "metadata": {},
   "outputs": [],
   "source": [
    "import garnet_analysis as ga\n",
    "import numpy as np\n",
    "import matplotlib.pyplot as plt\n",
    "import pandas as pd"
   ]
  },
  {
   "cell_type": "markdown",
   "metadata": {},
   "source": [
    "## 1. Load and Analyze Trajectory Data\n",
    "\n",
    "First, we'll load a LAMMPS trajectory and calculate Li-ion diffusivity."
   ]
  },
  {
   "cell_type": "code",
   "execution_count": null,
   "metadata": {},
   "outputs": [],
   "source": [
    "# Example file paths - replace with your actual data\n",
    "dump_file = \"path/to/your/dump.traj\"\n",
    "data_file = \"path/to/your/structure.data\"\n",
    "temperature = 1000  # K\n",
    "\n",
    "# Create analyzer from LAMMPS files\n",
    "analyzer = ga.DiffusivityAnalyzer.from_lammps_dump(\n",
    "    dump_path=dump_file,\n",
    "    data_path=data_file,\n",
    "    time_step=1.0,  # fs\n",
    "    step_skip=500\n",
    ")\n",
    "\n",
    "print(f\"Loaded trajectory with {len(analyzer.structures)} frames\")"
   ]
  },
  {
   "cell_type": "markdown",
   "metadata": {},
   "source": [
    "## 2. Calculate Li-ion Diffusivity"
   ]
  },
  {
   "cell_type": "code",
   "execution_count": null,
   "metadata": {},
   "outputs": [],
   "source": [
    "# Calculate Li-ion diffusivity\n",
    "li_result = analyzer.calculate_diffusivity(\n",
    "    species='Li',\n",
    "    temperature=temperature\n",
    ")\n",
    "\n",
    "print(f\"Li-ion diffusivity: {li_result.diffusivity:.3e} ± {li_result.std_error:.3e} cm²/s\")\n",
    "print(f\"Analysis time range: {li_result.time_range[0]:.1f} - {li_result.time_range[1]:.1f} ps\")\n",
    "print(f\"R² of linear fit: {li_result.r_squared:.3f}\")"
   ]
  },
  {
   "cell_type": "markdown",
   "metadata": {},
   "source": [
    "## 3. Analyze Other Elements for Melting Detection"
   ]
  },
  {
   "cell_type": "code",
   "execution_count": null,
   "metadata": {},
   "outputs": [],
   "source": [
    "# Analyze all non-Li elements\n",
    "other_elements = analyzer.analyze_all_elements(temperature=temperature)\n",
    "\n",
    "print(\"Element stability analysis:\")\n",
    "for element, data in other_elements.items():\n",
    "    print(f\"{element}: MSD_final = {data.msd_final:.3f} Å² (threshold: 20 Å²)\")\n",
    "    status = \"STABLE\" if data.msd_final < 20 else \"MELTED\"\n",
    "    print(f\"  Status: {status}\")"
   ]
  },
  {
   "cell_type": "markdown",
   "metadata": {},
   "source": [
    "## 4. Create MSD Plot\n",
    "\n",
    "Generate a publication-quality mean square displacement plot."
   ]
  },
  {
   "cell_type": "code",
   "execution_count": null,
   "metadata": {},
   "outputs": [],
   "source": [
    "# For demonstration, create synthetic MSD data\n",
    "# In practice, this would come from your AIMD analysis\n",
    "time_ps = np.linspace(0, 100, len(analyzer.structures))\n",
    "msd_synthetic = li_result.msd_slope * time_ps + np.random.normal(0, 0.5, len(time_ps))\n",
    "\n",
    "# Create MSD plot\n",
    "fig = ga.plot_msd(\n",
    "    time_ps=time_ps,\n",
    "    msd=msd_synthetic,\n",
    "    diffusivity_result=li_result,\n",
    "    other_elements=other_elements,\n",
    "    title=\"Li-ion MSD Analysis\",\n",
    "    save_path=\"msd_plot.png\"\n",
    ")\n",
    "\n",
    "plt.show()"
   ]
  },
  {
   "cell_type": "markdown",
   "metadata": {},
   "source": [
    "## 5. Compare with Reference Materials\n",
    "\n",
    "Compare your results with known LLZO reference values."
   ]
  },
  {
   "cell_type": "code",
   "execution_count": null,
   "metadata": {},
   "outputs": [],
   "source": [
    "# Get reference diffusivity values\n",
    "tllzo_1000k = ga.get_reference_diffusivity('tetragonal', 1000)\n",
    "cllzo_1000k = ga.get_reference_diffusivity('cubic', 1000)\n",
    "\n",
    "print(\"Reference values at 1000K:\")\n",
    "print(f\"Tetragonal LLZO: {tllzo_1000k[1000]['value']:.3e} cm²/s\")\n",
    "print(f\"Cubic LLZO: {cllzo_1000k[1000]['value']:.3e} cm²/s\")\n",
    "print(f\"Your material: {li_result.diffusivity:.3e} cm²/s\")\n",
    "\n",
    "# Calculate relative performance\n",
    "tllzo_ratio = li_result.diffusivity / tllzo_1000k[1000]['value']\n",
    "print(f\"\\nYour material is {tllzo_ratio:.1f}x the diffusivity of tLLZO\")"
   ]
  },
  {
   "cell_type": "markdown",
   "metadata": {},
   "source": [
    "## 6. Screening Criteria Assessment\n",
    "\n",
    "Apply standard screening criteria to determine if the material passes."
   ]
  },
  {
   "cell_type": "code",
   "execution_count": null,
   "metadata": {},
   "outputs": [],
   "source": [
    "# Define screening criteria\n",
    "criteria = {\n",
    "    'min_diffusivity': 0.9 * tllzo_1000k[1000]['value'],  # 90% of tLLZO\n",
    "    'max_msd': 20.0,  # Å²\n",
    "    'min_r_squared': 0.8\n",
    "}\n",
    "\n",
    "# Check criteria\n",
    "passes_diffusivity = li_result.diffusivity >= criteria['min_diffusivity']\n",
    "passes_stability = all(data.msd_final < criteria['max_msd'] for data in other_elements.values())\n",
    "passes_fit_quality = li_result.r_squared >= criteria['min_r_squared']\n",
    "\n",
    "print(\"Screening Results:\")\n",
    "print(f\"✓ Diffusivity >= 90% tLLZO: {passes_diffusivity}\")\n",
    "print(f\"✓ All elements stable (MSD < 20 Å²): {passes_stability}\")\n",
    "print(f\"✓ Good fit quality (R² >= 0.8): {passes_fit_quality}\")\n",
    "\n",
    "overall_pass = passes_diffusivity and passes_stability and passes_fit_quality\n",
    "print(f\"\\nOverall result: {'PASS' if overall_pass else 'FAIL'}\")"
   ]
  },
  {
   "cell_type": "markdown",
   "metadata": {},
   "source": [
    "## 7. Save Results\n",
    "\n",
    "Export results for further analysis or reporting."
   ]
  },
  {
   "cell_type": "code",
   "execution_count": null,
   "metadata": {},
   "outputs": [],
   "source": [
    "# Create results dictionary\n",
    "results = {\n",
    "    'material_name': 'Your_Material_Name',\n",
    "    'temperature': temperature,\n",
    "    'diffusivity': li_result.diffusivity,\n",
    "    'diffusivity_std': li_result.std_error,\n",
    "    'r_squared': li_result.r_squared,\n",
    "    'time_range_start': li_result.time_range[0],\n",
    "    'time_range_end': li_result.time_range[1],\n",
    "    'screening_pass': overall_pass\n",
    "}\n",
    "\n",
    "# Add element stability data\n",
    "for element, data in other_elements.items():\n",
    "    results[f'{element}_msd_final'] = data.msd_final\n",
    "    results[f'{element}_stable'] = data.msd_final < 20.0\n",
    "\n",
    "# Convert to DataFrame and save\n",
    "df_results = pd.DataFrame([results])\n",
    "df_results.to_csv('analysis_results.csv', index=False)\n",
    "\n",
    "print(\"Results saved to 'analysis_results.csv'\")\n",
    "print(\"\\nSummary:\")\n",
    "print(df_results.to_string(index=False))"
   ]
  },
  {
   "cell_type": "markdown",
   "metadata": {},
   "source": [
    "## Next Steps\n",
    "\n",
    "After completing this basic analysis, you can:\n",
    "\n",
    "1. **Temperature Series Analysis**: Use `02_arrhenius_analysis.ipynb` to analyze multiple temperatures\n",
    "2. **High-throughput Screening**: Use `03_screening_workflow.ipynb` for batch processing\n",
    "3. **Advanced Plotting**: Explore more visualization options in the plotting modules\n",
    "4. **Energy Analysis**: Combine with formation energy calculations for comprehensive screening\n",
    "\n",
    "## Troubleshooting\n",
    "\n",
    "Common issues and solutions:\n",
    "\n",
    "- **PyMatGen ImportError**: Install with `conda install pymatgen`\n",
    "- **AIMD ImportError**: The package falls back to basic methods without AIMD\n",
    "- **File not found**: Check file paths and ensure files are accessible\n",
    "- **Poor fit quality**: Adjust analysis parameters or check trajectory quality"
   ]
  }
 ],
 "metadata": {
  "kernelspec": {
   "display_name": "Python 3",
   "language": "python",
   "name": "python3"
  },
  "language_info": {
   "codemirror_mode": {
    "name": "ipython",
    "version": 3
   },
   "file_extension": ".py",
   "mimetype": "text/x-python",
   "name": "python",
   "nbconvert_exporter": "python",
   "pygments_lexer": "ipython3",
   "version": "3.8.0"
  }
 },
 "nbformat": 4,
 "nbformat_minor": 4
}